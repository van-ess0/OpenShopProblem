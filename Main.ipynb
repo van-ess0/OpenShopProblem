{
 "cells": [
  {
   "cell_type": "code",
   "execution_count": 25,
   "metadata": {
    "collapsed": true
   },
   "outputs": [],
   "source": [
    "import re, random, math\n",
    "from operator import attrgetter\n",
    "import numpy as np\n",
    "\n",
    "lookup_table = None"
   ]
  },
  {
   "cell_type": "code",
   "execution_count": 26,
   "metadata": {},
   "outputs": [],
   "source": [
    "class Chromosome(object):\n",
    "    \"\"\"\n",
    "    The chromosome is a representation\n",
    "    of the genetic chromosome that is used\n",
    "    to develop a schedule and calculate the\n",
    "    makespan.\n",
    "    The chromosome is represented as an array\n",
    "    that is of size m * n, where m is the number\n",
    "    of machines, and n is the number of jobs.\n",
    "    Each operation is assigned a unique identifier\n",
    "    with its cost. So Job 1 on Machine 1 would have\n",
    "    an identifier of 1.\n",
    "    The array represents the order in which operations\n",
    "    are scheduled.\n",
    "    A possible Chromosome might look like the following\n",
    "    if there are 3 jobs and 3 machines\n",
    "    [7, 5, 9, 3, 1, 8, 6, 2, 4]\n",
    "    This means that schedule operation 7 first, then\n",
    "    schedule operation 5, then schedule operation 9, and\n",
    "    so on.\n",
    "    \"\"\"\n",
    "\n",
    "    def __init__(self, sequence):\n",
    "        self.sequence = sequence\n",
    "        self._makespan = None\n",
    "        self.schedule = np.zeros((len(lookup_table), len(lookup_table[0])))\n",
    "\n",
    "    @property\n",
    "    def makespan(self):\n",
    "        schedule = [[0 for j in lookup_table[0]] for i in lookup_table]\n",
    "        iter = 1\n",
    "        for operation in self.sequence:\n",
    "            job = id_to_job_index(operation)\n",
    "            machine = id_to_machine_index(operation)\n",
    "            op_cost = lookup_table[machine][job]\n",
    "\n",
    "            schedule[machine][job] = op_cost\n",
    "            self.schedule[machine][job] = iter\n",
    "            iter += 1\n",
    "        makespan = max(map(sum, schedule))\n",
    "\n",
    "        return makespan"
   ]
  },
  {
   "cell_type": "code",
   "execution_count": 27,
   "metadata": {},
   "outputs": [],
   "source": [
    "class Population(object):\n",
    "    def __init__(self, size):\n",
    "        self.size = size\n",
    "        self._members = []\n",
    "        self._seed_population()\n",
    "\n",
    "    def _seed_population(self):\n",
    "        sequence_size = len(lookup_table) * len(lookup_table[0])\n",
    "        for i in range(self.size):\n",
    "            sequence = random.sample(range(1, sequence_size + 1), sequence_size)\n",
    "            # print('sequence', sequence)\n",
    "            self._members.append(Chromosome(sequence))\n",
    "\n",
    "    def evolve_population(self):\n",
    "        (parent_one, parent_two) = self._selection()\n",
    "        child = self._crossover(parent_one, parent_two)\n",
    "        self._members.append(child)\n",
    "        self.kill_weak()\n",
    "        for member in self._members:\n",
    "            if random.random() < MUTATION:\n",
    "                self._mutate(member)\n",
    "\n",
    "    def _crossover(self, parent_one, parent_two):\n",
    "        (start_index, end_index) = random.sample(range(len(parent_one.sequence)), 2)\n",
    "\n",
    "        child_seq = [None] * len(parent_one.sequence)\n",
    "\n",
    "        for i in range(len(child_seq)):\n",
    "            if start_index < end_index and i >= start_index and i <= end_index:\n",
    "                child_seq[i] = parent_two.sequence[i]\n",
    "            elif start_index > end_index:\n",
    "                if not (i <= start_index and i >= end_index):\n",
    "                    child_seq[i] = parent_one.sequence[i]\n",
    "\n",
    "        for i in range(len(child_seq)):\n",
    "            if parent_two.sequence[i] not in child_seq:\n",
    "                for j in range(len(child_seq)):\n",
    "                    if child_seq[j] is None:\n",
    "                        child_seq[j] = parent_two.sequence[i]\n",
    "                        break\n",
    "\n",
    "        return Chromosome(child_seq)\n",
    "\n",
    "    def _mutate(self, member):\n",
    "        (index_one, index_two) = random.sample(range(len(member.sequence)), 2)\n",
    "\n",
    "        member.sequence[index_one], member.sequence[index_two] = member.sequence[index_two], member.sequence[index_one]\n",
    "\n",
    "    def _selection(self):\n",
    "        num_to_select = math.floor(self.size * (GROUP / 100))\n",
    "        sample = random.sample(range(self.size), num_to_select)\n",
    "        sample_members = sorted([self._members[i] for i in sample], key=attrgetter('makespan'))\n",
    "        return sample_members[:2]\n",
    "\n",
    "    def fittest(self, size):\n",
    "        return sorted(self._members, key=attrgetter('makespan'))[:size]\n",
    "\n",
    "    def kill_weak(self):\n",
    "        weakest = max(self._members, key=attrgetter('makespan'))\n",
    "        self._members.remove(weakest)"
   ]
  },
  {
   "cell_type": "code",
   "execution_count": 28,
   "metadata": {},
   "outputs": [],
   "source": [
    "def id_to_machine_index(id):\n",
    "    transposed_id = id - 1\n",
    "    return transposed_id // len(lookup_table[0])"
   ]
  },
  {
   "cell_type": "code",
   "execution_count": 29,
   "metadata": {},
   "outputs": [],
   "source": [
    "def id_to_job_index(id):\n",
    "    transposed_id = id - 1\n",
    "    return transposed_id % len(lookup_table[0])"
   ]
  },
  {
   "cell_type": "code",
   "execution_count": 31,
   "metadata": {},
   "outputs": [],
   "source": [
    "def start_ga(population):\n",
    "    best = 999999999\n",
    "    for i in range(GENERATIONS):\n",
    "        population.evolve_population()\n",
    "        fittest = population.fittest(1)[0]\n",
    "        if fittest.makespan < best:\n",
    "            best = fittest.makespan\n",
    "    print('best:', best)\n",
    "    print('schedule:\\n', fittest.schedule)"
   ]
  },
  {
   "cell_type": "code",
   "execution_count": 32,
   "metadata": {},
   "outputs": [],
   "source": [
    "POPULATION = 100\n",
    "MUTATION = 2.5\n",
    "GENERATIONS = 10\n",
    "GROUP = 10"
   ]
  },
  {
   "cell_type": "code",
   "execution_count": 33,
   "metadata": {},
   "outputs": [
    {
     "name": "stdout",
     "output_type": "stream",
     "text": [
      "[[10  7  3  1 12  6]\n [ 6  9  8  2  7  6]]\n"
     ]
    }
   ],
   "source": [
    "lookup_table = [\n",
    "    [10, 7, 3, 1, 12, 6],\n",
    "    [6, 9, 8, 2, 7, 6],\n",
    "]\n",
    "print(np.array(lookup_table))"
   ]
  },
  {
   "cell_type": "code",
   "execution_count": 34,
   "metadata": {},
   "outputs": [
    {
     "name": "stdout",
     "output_type": "stream",
     "text": [
      "best: 39\nschedule:\n [[  5.   7.   8.  11.   6.   2.]\n [ 12.   4.   9.   1.   3.  10.]]\n"
     ]
    }
   ],
   "source": [
    "population = Population(POPULATION)\n",
    "start_ga(population)"
   ]
  },
  {
   "cell_type": "code",
   "execution_count": null,
   "metadata": {},
   "outputs": [],
   "source": []
  }
 ],
 "metadata": {
  "kernelspec": {
   "display_name": "Python 2",
   "language": "python",
   "name": "python2"
  },
  "language_info": {
   "codemirror_mode": {
    "name": "ipython",
    "version": 2
   },
   "file_extension": ".py",
   "mimetype": "text/x-python",
   "name": "python",
   "nbconvert_exporter": "python",
   "pygments_lexer": "ipython2",
   "version": "2.7.6"
  }
 },
 "nbformat": 4,
 "nbformat_minor": 0
}
